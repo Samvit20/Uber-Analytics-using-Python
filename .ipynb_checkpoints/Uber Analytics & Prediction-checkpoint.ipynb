{
 "cells": [
  {
   "cell_type": "code",
   "execution_count": 35,
   "metadata": {
    "colab": {},
    "colab_type": "code",
    "id": "RjZfN4iR0pb8"
   },
   "outputs": [],
   "source": [
    "import pandas as pd\n",
    "from sklearn.linear_model import LogisticRegression,LinearRegression\n",
    "import pandas as pd\n",
    "import numpy as np\n",
    "import matplotlib.pyplot as plt\n",
    "import seaborn as sns\n",
    "import itertools\n",
    "import gc\n",
    "import os\n",
    "import sys\n",
    "%matplotlib inline"
   ]
  },
  {
   "cell_type": "code",
   "execution_count": 36,
   "metadata": {
    "colab": {},
    "colab_type": "code",
    "id": "hSwW737VA3Fk"
   },
   "outputs": [],
   "source": [
    "# Memory saving function credit to https://www.kaggle.com/gemartin/load-data-reduce-memory-usage\n",
    "def reduce_mem_usage(df):\n",
    "    \"\"\" iterate through all the columns of a dataframe and modify the data type\n",
    "        to reduce memory usage.\n",
    "    \"\"\"\n",
    "    start_mem = df.memory_usage().sum() / 1024**2\n",
    "    \n",
    "    for col in df.columns:\n",
    "        col_type = df[col].dtype\n",
    "        \n",
    "        if col_type != object:\n",
    "            c_min = df[col].min()\n",
    "            c_max = df[col].max()\n",
    "            if str(col_type)[:3] == 'int':\n",
    "                if c_min > np.iinfo(np.int8).min and c_max < np.iinfo(np.int8).max:\n",
    "                    df[col] = df[col].astype(np.int8)\n",
    "                elif c_min > np.iinfo(np.int16).min and c_max < np.iinfo(np.int16).max:\n",
    "                    df[col] = df[col].astype(np.int16)\n",
    "                elif c_min > np.iinfo(np.int32).min and c_max < np.iinfo(np.int32).max:\n",
    "                    df[col] = df[col].astype(np.int32)\n",
    "                elif c_min > np.iinfo(np.int64).min and c_max < np.iinfo(np.int64).max:\n",
    "                    df[col] = df[col].astype(np.int64)  \n",
    "            else:\n",
    "                #if c_min > np.finfo(np.float16).min and c_max < np.finfo(np.float16).max:\n",
    "                #    df[col] = df[col].astype(np.float16)\n",
    "                #el\n",
    "                if c_min > np.finfo(np.float32).min and c_max < np.finfo(np.float32).max:\n",
    "                    df[col] = df[col].astype(np.float32)\n",
    "                else:\n",
    "                    df[col] = df[col].astype(np.float64)\n",
    "        #else:\n",
    "            #df[col] = df[col].astype('category')\n",
    "\n",
    "    end_mem = df.memory_usage().sum() / 1024**2\n",
    "    print('Memory usage of dataframe is {:.2f} MB --> {:.2f} MB (Decreased by {:.1f}%)'.format(\n",
    "        start_mem, end_mem, 100 * (start_mem - end_mem) / start_mem))\n",
    "    return df"
   ]
  },
  {
   "cell_type": "code",
   "execution_count": 37,
   "metadata": {
    "colab": {
     "base_uri": "https://localhost:8080/",
     "height": 51
    },
    "colab_type": "code",
    "id": "jE5UFYp9A3IG",
    "outputId": "8385d864-b764-447b-ce60-6429a7c87496"
   },
   "outputs": [
    {
     "name": "stdout",
     "output_type": "stream",
     "text": [
      "Memory usage of dataframe is 52.88 MB --> 44.95 MB (Decreased by 15.0%)\n",
      "Memory usage of dataframe is 0.38 MB --> 0.22 MB (Decreased by 43.7%)\n"
     ]
    }
   ],
   "source": [
    "cab_data = pd.read_csv(\"cab_rides.csv\")\n",
    "cab_data=reduce_mem_usage(cab_data)\n",
    "weather_data = pd.read_csv(\"weather.csv\")\n",
    "weather_data=reduce_mem_usage(weather_data)\n"
   ]
  },
  {
   "cell_type": "code",
   "execution_count": 38,
   "metadata": {
    "colab": {
     "base_uri": "https://localhost:8080/",
     "height": 589
    },
    "colab_type": "code",
    "id": "A3RmnZj5A3LP",
    "outputId": "333bccc9-e1df-417a-dfc7-bc0ca700efe0"
   },
   "outputs": [
    {
     "data": {
      "text/html": [
       "<div>\n",
       "<style scoped>\n",
       "    .dataframe tbody tr th:only-of-type {\n",
       "        vertical-align: middle;\n",
       "    }\n",
       "\n",
       "    .dataframe tbody tr th {\n",
       "        vertical-align: top;\n",
       "    }\n",
       "\n",
       "    .dataframe thead th {\n",
       "        text-align: right;\n",
       "    }\n",
       "</style>\n",
       "<table border=\"1\" class=\"dataframe\">\n",
       "  <thead>\n",
       "    <tr style=\"text-align: right;\">\n",
       "      <th></th>\n",
       "      <th>distance</th>\n",
       "      <th>cab_type</th>\n",
       "      <th>time_stamp</th>\n",
       "      <th>destination</th>\n",
       "      <th>source</th>\n",
       "      <th>price</th>\n",
       "      <th>surge_multiplier</th>\n",
       "      <th>id</th>\n",
       "      <th>product_id</th>\n",
       "      <th>name</th>\n",
       "    </tr>\n",
       "  </thead>\n",
       "  <tbody>\n",
       "    <tr>\n",
       "      <th>0</th>\n",
       "      <td>0.44</td>\n",
       "      <td>Lyft</td>\n",
       "      <td>1544952607890</td>\n",
       "      <td>North Station</td>\n",
       "      <td>Haymarket Square</td>\n",
       "      <td>5.0</td>\n",
       "      <td>1.0</td>\n",
       "      <td>424553bb-7174-41ea-aeb4-fe06d4f4b9d7</td>\n",
       "      <td>lyft_line</td>\n",
       "      <td>Shared</td>\n",
       "    </tr>\n",
       "    <tr>\n",
       "      <th>1</th>\n",
       "      <td>0.44</td>\n",
       "      <td>Lyft</td>\n",
       "      <td>1543284023677</td>\n",
       "      <td>North Station</td>\n",
       "      <td>Haymarket Square</td>\n",
       "      <td>11.0</td>\n",
       "      <td>1.0</td>\n",
       "      <td>4bd23055-6827-41c6-b23b-3c491f24e74d</td>\n",
       "      <td>lyft_premier</td>\n",
       "      <td>Lux</td>\n",
       "    </tr>\n",
       "    <tr>\n",
       "      <th>2</th>\n",
       "      <td>0.44</td>\n",
       "      <td>Lyft</td>\n",
       "      <td>1543366822198</td>\n",
       "      <td>North Station</td>\n",
       "      <td>Haymarket Square</td>\n",
       "      <td>7.0</td>\n",
       "      <td>1.0</td>\n",
       "      <td>981a3613-77af-4620-a42a-0c0866077d1e</td>\n",
       "      <td>lyft</td>\n",
       "      <td>Lyft</td>\n",
       "    </tr>\n",
       "    <tr>\n",
       "      <th>3</th>\n",
       "      <td>0.44</td>\n",
       "      <td>Lyft</td>\n",
       "      <td>1543553582749</td>\n",
       "      <td>North Station</td>\n",
       "      <td>Haymarket Square</td>\n",
       "      <td>26.0</td>\n",
       "      <td>1.0</td>\n",
       "      <td>c2d88af2-d278-4bfd-a8d0-29ca77cc5512</td>\n",
       "      <td>lyft_luxsuv</td>\n",
       "      <td>Lux Black XL</td>\n",
       "    </tr>\n",
       "    <tr>\n",
       "      <th>4</th>\n",
       "      <td>0.44</td>\n",
       "      <td>Lyft</td>\n",
       "      <td>1543463360223</td>\n",
       "      <td>North Station</td>\n",
       "      <td>Haymarket Square</td>\n",
       "      <td>9.0</td>\n",
       "      <td>1.0</td>\n",
       "      <td>e0126e1f-8ca9-4f2e-82b3-50505a09db9a</td>\n",
       "      <td>lyft_plus</td>\n",
       "      <td>Lyft XL</td>\n",
       "    </tr>\n",
       "    <tr>\n",
       "      <th>...</th>\n",
       "      <td>...</td>\n",
       "      <td>...</td>\n",
       "      <td>...</td>\n",
       "      <td>...</td>\n",
       "      <td>...</td>\n",
       "      <td>...</td>\n",
       "      <td>...</td>\n",
       "      <td>...</td>\n",
       "      <td>...</td>\n",
       "      <td>...</td>\n",
       "    </tr>\n",
       "    <tr>\n",
       "      <th>693066</th>\n",
       "      <td>1.00</td>\n",
       "      <td>Uber</td>\n",
       "      <td>1543708385534</td>\n",
       "      <td>North End</td>\n",
       "      <td>West End</td>\n",
       "      <td>13.0</td>\n",
       "      <td>1.0</td>\n",
       "      <td>616d3611-1820-450a-9845-a9ff304a4842</td>\n",
       "      <td>6f72dfc5-27f1-42e8-84db-ccc7a75f6969</td>\n",
       "      <td>UberXL</td>\n",
       "    </tr>\n",
       "    <tr>\n",
       "      <th>693067</th>\n",
       "      <td>1.00</td>\n",
       "      <td>Uber</td>\n",
       "      <td>1543708385534</td>\n",
       "      <td>North End</td>\n",
       "      <td>West End</td>\n",
       "      <td>9.5</td>\n",
       "      <td>1.0</td>\n",
       "      <td>633a3fc3-1f86-4b9e-9d48-2b7132112341</td>\n",
       "      <td>55c66225-fbe7-4fd5-9072-eab1ece5e23e</td>\n",
       "      <td>UberX</td>\n",
       "    </tr>\n",
       "    <tr>\n",
       "      <th>693068</th>\n",
       "      <td>1.00</td>\n",
       "      <td>Uber</td>\n",
       "      <td>1543708385534</td>\n",
       "      <td>North End</td>\n",
       "      <td>West End</td>\n",
       "      <td>NaN</td>\n",
       "      <td>1.0</td>\n",
       "      <td>64d451d0-639f-47a4-9b7c-6fd92fbd264f</td>\n",
       "      <td>8cf7e821-f0d3-49c6-8eba-e679c0ebcf6a</td>\n",
       "      <td>Taxi</td>\n",
       "    </tr>\n",
       "    <tr>\n",
       "      <th>693069</th>\n",
       "      <td>1.00</td>\n",
       "      <td>Uber</td>\n",
       "      <td>1543708385534</td>\n",
       "      <td>North End</td>\n",
       "      <td>West End</td>\n",
       "      <td>27.0</td>\n",
       "      <td>1.0</td>\n",
       "      <td>727e5f07-a96b-4ad1-a2c7-9abc3ad55b4e</td>\n",
       "      <td>6d318bcc-22a3-4af6-bddd-b409bfce1546</td>\n",
       "      <td>Black SUV</td>\n",
       "    </tr>\n",
       "    <tr>\n",
       "      <th>693070</th>\n",
       "      <td>1.00</td>\n",
       "      <td>Uber</td>\n",
       "      <td>1543708385534</td>\n",
       "      <td>North End</td>\n",
       "      <td>West End</td>\n",
       "      <td>10.0</td>\n",
       "      <td>1.0</td>\n",
       "      <td>e7fdc087-fe86-40a5-a3c3-3b2a8badcbda</td>\n",
       "      <td>997acbb5-e102-41e1-b155-9df7de0a73f2</td>\n",
       "      <td>UberPool</td>\n",
       "    </tr>\n",
       "  </tbody>\n",
       "</table>\n",
       "<p>693071 rows × 10 columns</p>\n",
       "</div>"
      ],
      "text/plain": [
       "        distance cab_type     time_stamp    destination            source  \\\n",
       "0           0.44     Lyft  1544952607890  North Station  Haymarket Square   \n",
       "1           0.44     Lyft  1543284023677  North Station  Haymarket Square   \n",
       "2           0.44     Lyft  1543366822198  North Station  Haymarket Square   \n",
       "3           0.44     Lyft  1543553582749  North Station  Haymarket Square   \n",
       "4           0.44     Lyft  1543463360223  North Station  Haymarket Square   \n",
       "...          ...      ...            ...            ...               ...   \n",
       "693066      1.00     Uber  1543708385534      North End          West End   \n",
       "693067      1.00     Uber  1543708385534      North End          West End   \n",
       "693068      1.00     Uber  1543708385534      North End          West End   \n",
       "693069      1.00     Uber  1543708385534      North End          West End   \n",
       "693070      1.00     Uber  1543708385534      North End          West End   \n",
       "\n",
       "        price  surge_multiplier                                    id  \\\n",
       "0         5.0               1.0  424553bb-7174-41ea-aeb4-fe06d4f4b9d7   \n",
       "1        11.0               1.0  4bd23055-6827-41c6-b23b-3c491f24e74d   \n",
       "2         7.0               1.0  981a3613-77af-4620-a42a-0c0866077d1e   \n",
       "3        26.0               1.0  c2d88af2-d278-4bfd-a8d0-29ca77cc5512   \n",
       "4         9.0               1.0  e0126e1f-8ca9-4f2e-82b3-50505a09db9a   \n",
       "...       ...               ...                                   ...   \n",
       "693066   13.0               1.0  616d3611-1820-450a-9845-a9ff304a4842   \n",
       "693067    9.5               1.0  633a3fc3-1f86-4b9e-9d48-2b7132112341   \n",
       "693068    NaN               1.0  64d451d0-639f-47a4-9b7c-6fd92fbd264f   \n",
       "693069   27.0               1.0  727e5f07-a96b-4ad1-a2c7-9abc3ad55b4e   \n",
       "693070   10.0               1.0  e7fdc087-fe86-40a5-a3c3-3b2a8badcbda   \n",
       "\n",
       "                                  product_id          name  \n",
       "0                                  lyft_line        Shared  \n",
       "1                               lyft_premier           Lux  \n",
       "2                                       lyft          Lyft  \n",
       "3                                lyft_luxsuv  Lux Black XL  \n",
       "4                                  lyft_plus       Lyft XL  \n",
       "...                                      ...           ...  \n",
       "693066  6f72dfc5-27f1-42e8-84db-ccc7a75f6969        UberXL  \n",
       "693067  55c66225-fbe7-4fd5-9072-eab1ece5e23e         UberX  \n",
       "693068  8cf7e821-f0d3-49c6-8eba-e679c0ebcf6a          Taxi  \n",
       "693069  6d318bcc-22a3-4af6-bddd-b409bfce1546     Black SUV  \n",
       "693070  997acbb5-e102-41e1-b155-9df7de0a73f2      UberPool  \n",
       "\n",
       "[693071 rows x 10 columns]"
      ]
     },
     "execution_count": 38,
     "metadata": {},
     "output_type": "execute_result"
    }
   ],
   "source": [
    "cab_data"
   ]
  },
  {
   "cell_type": "code",
   "execution_count": 39,
   "metadata": {
    "colab": {},
    "colab_type": "code",
    "id": "KdLDcL9ABVQG"
   },
   "outputs": [],
   "source": [
    "import datetime\n",
    "cab_data['datetime']= pd.to_datetime(cab_data['time_stamp'])\n",
    "cab_data\n",
    "weather_data['date_time'] = pd.to_datetime(weather_data['time_stamp'])"
   ]
  },
  {
   "cell_type": "code",
   "execution_count": 40,
   "metadata": {
    "colab": {
     "base_uri": "https://localhost:8080/",
     "height": 68
    },
    "colab_type": "code",
    "id": "eDQoIpm0zEXU",
    "outputId": "2d3ca517-8f23-4b4d-87d0-af1d950a92d1"
   },
   "outputs": [
    {
     "data": {
      "text/plain": [
       "Index(['distance', 'cab_type', 'time_stamp', 'destination', 'source', 'price',\n",
       "       'surge_multiplier', 'id', 'product_id', 'name', 'datetime'],\n",
       "      dtype='object')"
      ]
     },
     "execution_count": 40,
     "metadata": {},
     "output_type": "execute_result"
    }
   ],
   "source": [
    "cab_data.columns"
   ]
  },
  {
   "cell_type": "code",
   "execution_count": 41,
   "metadata": {
    "colab": {
     "base_uri": "https://localhost:8080/",
     "height": 68
    },
    "colab_type": "code",
    "id": "gLf4SO66zDrS",
    "outputId": "e0b4ef0d-a35e-40f6-85c7-4acbec19d0af"
   },
   "outputs": [
    {
     "data": {
      "text/plain": [
       "Index(['temp', 'location', 'clouds', 'pressure', 'rain', 'time_stamp',\n",
       "       'humidity', 'wind', 'date_time'],\n",
       "      dtype='object')"
      ]
     },
     "execution_count": 41,
     "metadata": {},
     "output_type": "execute_result"
    }
   ],
   "source": [
    "weather_data.columns"
   ]
  },
  {
   "cell_type": "code",
   "execution_count": 42,
   "metadata": {
    "colab": {
     "base_uri": "https://localhost:8080/",
     "height": 34
    },
    "colab_type": "code",
    "id": "h--1tSAAzDuu",
    "outputId": "ef39141b-0afb-45ac-bb41-27b7e70d9572"
   },
   "outputs": [
    {
     "data": {
      "text/plain": [
       "(693071, 11)"
      ]
     },
     "execution_count": 42,
     "metadata": {},
     "output_type": "execute_result"
    }
   ],
   "source": [
    "cab_data.shape"
   ]
  },
  {
   "cell_type": "code",
   "execution_count": 43,
   "metadata": {
    "colab": {
     "base_uri": "https://localhost:8080/",
     "height": 34
    },
    "colab_type": "code",
    "id": "vLgxrhyuzDoz",
    "outputId": "7b2e8f73-4bff-42c0-9bf5-83e64487410d"
   },
   "outputs": [
    {
     "data": {
      "text/plain": [
       "(6276, 9)"
      ]
     },
     "execution_count": 43,
     "metadata": {},
     "output_type": "execute_result"
    }
   ],
   "source": [
    "weather_data.shape"
   ]
  },
  {
   "cell_type": "code",
   "execution_count": 44,
   "metadata": {
    "colab": {
     "base_uri": "https://localhost:8080/",
     "height": 297
    },
    "colab_type": "code",
    "id": "vkaVa0eVzOkg",
    "outputId": "b42bdf73-66b3-485a-9cc7-561125c9da83"
   },
   "outputs": [
    {
     "data": {
      "text/html": [
       "<div>\n",
       "<style scoped>\n",
       "    .dataframe tbody tr th:only-of-type {\n",
       "        vertical-align: middle;\n",
       "    }\n",
       "\n",
       "    .dataframe tbody tr th {\n",
       "        vertical-align: top;\n",
       "    }\n",
       "\n",
       "    .dataframe thead th {\n",
       "        text-align: right;\n",
       "    }\n",
       "</style>\n",
       "<table border=\"1\" class=\"dataframe\">\n",
       "  <thead>\n",
       "    <tr style=\"text-align: right;\">\n",
       "      <th></th>\n",
       "      <th>distance</th>\n",
       "      <th>time_stamp</th>\n",
       "      <th>price</th>\n",
       "      <th>surge_multiplier</th>\n",
       "    </tr>\n",
       "  </thead>\n",
       "  <tbody>\n",
       "    <tr>\n",
       "      <th>count</th>\n",
       "      <td>693071.000000</td>\n",
       "      <td>6.930710e+05</td>\n",
       "      <td>637976.000000</td>\n",
       "      <td>693071.000000</td>\n",
       "    </tr>\n",
       "    <tr>\n",
       "      <th>mean</th>\n",
       "      <td>2.190057</td>\n",
       "      <td>1.544046e+12</td>\n",
       "      <td>16.543797</td>\n",
       "      <td>1.013870</td>\n",
       "    </tr>\n",
       "    <tr>\n",
       "      <th>std</th>\n",
       "      <td>1.138935</td>\n",
       "      <td>6.891925e+08</td>\n",
       "      <td>9.319172</td>\n",
       "      <td>0.091467</td>\n",
       "    </tr>\n",
       "    <tr>\n",
       "      <th>min</th>\n",
       "      <td>0.020000</td>\n",
       "      <td>1.543204e+12</td>\n",
       "      <td>2.500000</td>\n",
       "      <td>1.000000</td>\n",
       "    </tr>\n",
       "    <tr>\n",
       "      <th>25%</th>\n",
       "      <td>1.280000</td>\n",
       "      <td>1.543444e+12</td>\n",
       "      <td>9.000000</td>\n",
       "      <td>1.000000</td>\n",
       "    </tr>\n",
       "    <tr>\n",
       "      <th>50%</th>\n",
       "      <td>2.160000</td>\n",
       "      <td>1.543737e+12</td>\n",
       "      <td>13.500000</td>\n",
       "      <td>1.000000</td>\n",
       "    </tr>\n",
       "    <tr>\n",
       "      <th>75%</th>\n",
       "      <td>2.920000</td>\n",
       "      <td>1.544828e+12</td>\n",
       "      <td>22.500000</td>\n",
       "      <td>1.000000</td>\n",
       "    </tr>\n",
       "    <tr>\n",
       "      <th>max</th>\n",
       "      <td>7.860000</td>\n",
       "      <td>1.545161e+12</td>\n",
       "      <td>97.500000</td>\n",
       "      <td>3.000000</td>\n",
       "    </tr>\n",
       "  </tbody>\n",
       "</table>\n",
       "</div>"
      ],
      "text/plain": [
       "            distance    time_stamp          price  surge_multiplier\n",
       "count  693071.000000  6.930710e+05  637976.000000     693071.000000\n",
       "mean        2.190057  1.544046e+12      16.543797          1.013870\n",
       "std         1.138935  6.891925e+08       9.319172          0.091467\n",
       "min         0.020000  1.543204e+12       2.500000          1.000000\n",
       "25%         1.280000  1.543444e+12       9.000000          1.000000\n",
       "50%         2.160000  1.543737e+12      13.500000          1.000000\n",
       "75%         2.920000  1.544828e+12      22.500000          1.000000\n",
       "max         7.860000  1.545161e+12      97.500000          3.000000"
      ]
     },
     "execution_count": 44,
     "metadata": {},
     "output_type": "execute_result"
    }
   ],
   "source": [
    "cab_data.describe()"
   ]
  },
  {
   "cell_type": "code",
   "execution_count": 45,
   "metadata": {
    "colab": {
     "base_uri": "https://localhost:8080/",
     "height": 297
    },
    "colab_type": "code",
    "id": "zAXaQHGSzR-I",
    "outputId": "71f3298d-762c-4a12-bf07-7fd310223f86"
   },
   "outputs": [
    {
     "data": {
      "text/html": [
       "<div>\n",
       "<style scoped>\n",
       "    .dataframe tbody tr th:only-of-type {\n",
       "        vertical-align: middle;\n",
       "    }\n",
       "\n",
       "    .dataframe tbody tr th {\n",
       "        vertical-align: top;\n",
       "    }\n",
       "\n",
       "    .dataframe thead th {\n",
       "        text-align: right;\n",
       "    }\n",
       "</style>\n",
       "<table border=\"1\" class=\"dataframe\">\n",
       "  <thead>\n",
       "    <tr style=\"text-align: right;\">\n",
       "      <th></th>\n",
       "      <th>temp</th>\n",
       "      <th>clouds</th>\n",
       "      <th>pressure</th>\n",
       "      <th>rain</th>\n",
       "      <th>time_stamp</th>\n",
       "      <th>humidity</th>\n",
       "      <th>wind</th>\n",
       "    </tr>\n",
       "  </thead>\n",
       "  <tbody>\n",
       "    <tr>\n",
       "      <th>count</th>\n",
       "      <td>6276.000000</td>\n",
       "      <td>6276.000000</td>\n",
       "      <td>6276.000000</td>\n",
       "      <td>894.000000</td>\n",
       "      <td>6.276000e+03</td>\n",
       "      <td>6276.000000</td>\n",
       "      <td>6276.000000</td>\n",
       "    </tr>\n",
       "    <tr>\n",
       "      <th>mean</th>\n",
       "      <td>39.090378</td>\n",
       "      <td>0.677775</td>\n",
       "      <td>1008.443176</td>\n",
       "      <td>0.057652</td>\n",
       "      <td>1.543857e+09</td>\n",
       "      <td>0.763976</td>\n",
       "      <td>6.802810</td>\n",
       "    </tr>\n",
       "    <tr>\n",
       "      <th>std</th>\n",
       "      <td>6.022061</td>\n",
       "      <td>0.314283</td>\n",
       "      <td>12.870790</td>\n",
       "      <td>0.100758</td>\n",
       "      <td>6.659340e+05</td>\n",
       "      <td>0.127340</td>\n",
       "      <td>3.633476</td>\n",
       "    </tr>\n",
       "    <tr>\n",
       "      <th>min</th>\n",
       "      <td>19.620001</td>\n",
       "      <td>0.000000</td>\n",
       "      <td>988.250000</td>\n",
       "      <td>0.000200</td>\n",
       "      <td>1.543204e+09</td>\n",
       "      <td>0.450000</td>\n",
       "      <td>0.290000</td>\n",
       "    </tr>\n",
       "    <tr>\n",
       "      <th>25%</th>\n",
       "      <td>36.077501</td>\n",
       "      <td>0.440000</td>\n",
       "      <td>997.747498</td>\n",
       "      <td>0.004900</td>\n",
       "      <td>1.543387e+09</td>\n",
       "      <td>0.670000</td>\n",
       "      <td>3.517500</td>\n",
       "    </tr>\n",
       "    <tr>\n",
       "      <th>50%</th>\n",
       "      <td>40.130001</td>\n",
       "      <td>0.780000</td>\n",
       "      <td>1007.659973</td>\n",
       "      <td>0.014850</td>\n",
       "      <td>1.543514e+09</td>\n",
       "      <td>0.760000</td>\n",
       "      <td>6.570000</td>\n",
       "    </tr>\n",
       "    <tr>\n",
       "      <th>75%</th>\n",
       "      <td>42.832501</td>\n",
       "      <td>0.970000</td>\n",
       "      <td>1018.479980</td>\n",
       "      <td>0.060925</td>\n",
       "      <td>1.544691e+09</td>\n",
       "      <td>0.890000</td>\n",
       "      <td>9.920000</td>\n",
       "    </tr>\n",
       "    <tr>\n",
       "      <th>max</th>\n",
       "      <td>55.410000</td>\n",
       "      <td>1.000000</td>\n",
       "      <td>1035.119995</td>\n",
       "      <td>0.780700</td>\n",
       "      <td>1.545159e+09</td>\n",
       "      <td>0.990000</td>\n",
       "      <td>18.180000</td>\n",
       "    </tr>\n",
       "  </tbody>\n",
       "</table>\n",
       "</div>"
      ],
      "text/plain": [
       "              temp       clouds     pressure        rain    time_stamp  \\\n",
       "count  6276.000000  6276.000000  6276.000000  894.000000  6.276000e+03   \n",
       "mean     39.090378     0.677775  1008.443176    0.057652  1.543857e+09   \n",
       "std       6.022061     0.314283    12.870790    0.100758  6.659340e+05   \n",
       "min      19.620001     0.000000   988.250000    0.000200  1.543204e+09   \n",
       "25%      36.077501     0.440000   997.747498    0.004900  1.543387e+09   \n",
       "50%      40.130001     0.780000  1007.659973    0.014850  1.543514e+09   \n",
       "75%      42.832501     0.970000  1018.479980    0.060925  1.544691e+09   \n",
       "max      55.410000     1.000000  1035.119995    0.780700  1.545159e+09   \n",
       "\n",
       "          humidity         wind  \n",
       "count  6276.000000  6276.000000  \n",
       "mean      0.763976     6.802810  \n",
       "std       0.127340     3.633476  \n",
       "min       0.450000     0.290000  \n",
       "25%       0.670000     3.517500  \n",
       "50%       0.760000     6.570000  \n",
       "75%       0.890000     9.920000  \n",
       "max       0.990000    18.180000  "
      ]
     },
     "execution_count": 45,
     "metadata": {},
     "output_type": "execute_result"
    }
   ],
   "source": [
    "weather_data.describe()"
   ]
  },
  {
   "cell_type": "code",
   "execution_count": 46,
   "metadata": {
    "colab": {},
    "colab_type": "code",
    "id": "3ZsJ0ZV_A3NW"
   },
   "outputs": [],
   "source": [
    "a=pd.concat([cab_data,weather_data])"
   ]
  },
  {
   "cell_type": "code",
   "execution_count": 47,
   "metadata": {
    "colab": {},
    "colab_type": "code",
    "id": "V5Tgd14Jo9Kf"
   },
   "outputs": [],
   "source": [
    "a['day']=a.date_time.dt.day\n",
    "a['hour']=a.date_time.dt.hour"
   ]
  },
  {
   "cell_type": "code",
   "execution_count": 48,
   "metadata": {
    "colab": {},
    "colab_type": "code",
    "id": "PiZzirU9A3Pi"
   },
   "outputs": [],
   "source": [
    "a.fillna(0,inplace=True)"
   ]
  },
  {
   "cell_type": "code",
   "execution_count": 49,
   "metadata": {
    "colab": {
     "base_uri": "https://localhost:8080/",
     "height": 102
    },
    "colab_type": "code",
    "id": "kYeUMkghCuA7",
    "outputId": "64716cc0-7153-408c-a109-84110bd4ab6c"
   },
   "outputs": [
    {
     "data": {
      "text/plain": [
       "Index(['distance', 'cab_type', 'time_stamp', 'destination', 'source', 'price',\n",
       "       'surge_multiplier', 'id', 'product_id', 'name', 'datetime', 'temp',\n",
       "       'location', 'clouds', 'pressure', 'rain', 'humidity', 'wind',\n",
       "       'date_time', 'day', 'hour'],\n",
       "      dtype='object')"
      ]
     },
     "execution_count": 49,
     "metadata": {},
     "output_type": "execute_result"
    }
   ],
   "source": [
    "a.columns"
   ]
  },
  {
   "cell_type": "code",
   "execution_count": 50,
   "metadata": {
    "colab": {
     "base_uri": "https://localhost:8080/",
     "height": 193
    },
    "colab_type": "code",
    "id": "yukc5TfsxYlR",
    "outputId": "1a716480-599e-4f8c-dd5e-c8855f0ae2c2"
   },
   "outputs": [
    {
     "data": {
      "text/html": [
       "<div>\n",
       "<style scoped>\n",
       "    .dataframe tbody tr th:only-of-type {\n",
       "        vertical-align: middle;\n",
       "    }\n",
       "\n",
       "    .dataframe tbody tr th {\n",
       "        vertical-align: top;\n",
       "    }\n",
       "\n",
       "    .dataframe thead th {\n",
       "        text-align: right;\n",
       "    }\n",
       "</style>\n",
       "<table border=\"1\" class=\"dataframe\">\n",
       "  <thead>\n",
       "    <tr style=\"text-align: right;\">\n",
       "      <th></th>\n",
       "      <th>distance</th>\n",
       "      <th>time_stamp</th>\n",
       "      <th>destination</th>\n",
       "      <th>source</th>\n",
       "      <th>price</th>\n",
       "      <th>surge_multiplier</th>\n",
       "      <th>id</th>\n",
       "      <th>product_id</th>\n",
       "      <th>name</th>\n",
       "      <th>datetime</th>\n",
       "      <th>temp</th>\n",
       "      <th>location</th>\n",
       "      <th>clouds</th>\n",
       "      <th>pressure</th>\n",
       "      <th>rain</th>\n",
       "      <th>humidity</th>\n",
       "      <th>wind</th>\n",
       "      <th>date_time</th>\n",
       "      <th>day</th>\n",
       "      <th>hour</th>\n",
       "    </tr>\n",
       "    <tr>\n",
       "      <th>cab_type</th>\n",
       "      <th></th>\n",
       "      <th></th>\n",
       "      <th></th>\n",
       "      <th></th>\n",
       "      <th></th>\n",
       "      <th></th>\n",
       "      <th></th>\n",
       "      <th></th>\n",
       "      <th></th>\n",
       "      <th></th>\n",
       "      <th></th>\n",
       "      <th></th>\n",
       "      <th></th>\n",
       "      <th></th>\n",
       "      <th></th>\n",
       "      <th></th>\n",
       "      <th></th>\n",
       "      <th></th>\n",
       "      <th></th>\n",
       "      <th></th>\n",
       "    </tr>\n",
       "  </thead>\n",
       "  <tbody>\n",
       "    <tr>\n",
       "      <th>0</th>\n",
       "      <td>6276</td>\n",
       "      <td>6276</td>\n",
       "      <td>6276</td>\n",
       "      <td>6276</td>\n",
       "      <td>6276</td>\n",
       "      <td>6276</td>\n",
       "      <td>6276</td>\n",
       "      <td>6276</td>\n",
       "      <td>6276</td>\n",
       "      <td>6276</td>\n",
       "      <td>6276</td>\n",
       "      <td>6276</td>\n",
       "      <td>6276</td>\n",
       "      <td>6276</td>\n",
       "      <td>6276</td>\n",
       "      <td>6276</td>\n",
       "      <td>6276</td>\n",
       "      <td>6276</td>\n",
       "      <td>6276</td>\n",
       "      <td>6276</td>\n",
       "    </tr>\n",
       "    <tr>\n",
       "      <th>Lyft</th>\n",
       "      <td>307408</td>\n",
       "      <td>307408</td>\n",
       "      <td>307408</td>\n",
       "      <td>307408</td>\n",
       "      <td>307408</td>\n",
       "      <td>307408</td>\n",
       "      <td>307408</td>\n",
       "      <td>307408</td>\n",
       "      <td>307408</td>\n",
       "      <td>307408</td>\n",
       "      <td>307408</td>\n",
       "      <td>307408</td>\n",
       "      <td>307408</td>\n",
       "      <td>307408</td>\n",
       "      <td>307408</td>\n",
       "      <td>307408</td>\n",
       "      <td>307408</td>\n",
       "      <td>307408</td>\n",
       "      <td>307408</td>\n",
       "      <td>307408</td>\n",
       "    </tr>\n",
       "    <tr>\n",
       "      <th>Uber</th>\n",
       "      <td>385663</td>\n",
       "      <td>385663</td>\n",
       "      <td>385663</td>\n",
       "      <td>385663</td>\n",
       "      <td>385663</td>\n",
       "      <td>385663</td>\n",
       "      <td>385663</td>\n",
       "      <td>385663</td>\n",
       "      <td>385663</td>\n",
       "      <td>385663</td>\n",
       "      <td>385663</td>\n",
       "      <td>385663</td>\n",
       "      <td>385663</td>\n",
       "      <td>385663</td>\n",
       "      <td>385663</td>\n",
       "      <td>385663</td>\n",
       "      <td>385663</td>\n",
       "      <td>385663</td>\n",
       "      <td>385663</td>\n",
       "      <td>385663</td>\n",
       "    </tr>\n",
       "  </tbody>\n",
       "</table>\n",
       "</div>"
      ],
      "text/plain": [
       "          distance  time_stamp  destination  source   price  surge_multiplier  \\\n",
       "cab_type                                                                        \n",
       "0             6276        6276         6276    6276    6276              6276   \n",
       "Lyft        307408      307408       307408  307408  307408            307408   \n",
       "Uber        385663      385663       385663  385663  385663            385663   \n",
       "\n",
       "              id  product_id    name  datetime    temp  location  clouds  \\\n",
       "cab_type                                                                   \n",
       "0           6276        6276    6276      6276    6276      6276    6276   \n",
       "Lyft      307408      307408  307408    307408  307408    307408  307408   \n",
       "Uber      385663      385663  385663    385663  385663    385663  385663   \n",
       "\n",
       "          pressure    rain  humidity    wind  date_time     day    hour  \n",
       "cab_type                                                                 \n",
       "0             6276    6276      6276    6276       6276    6276    6276  \n",
       "Lyft        307408  307408    307408  307408     307408  307408  307408  \n",
       "Uber        385663  385663    385663  385663     385663  385663  385663  "
      ]
     },
     "execution_count": 50,
     "metadata": {},
     "output_type": "execute_result"
    }
   ],
   "source": [
    "a.groupby('cab_type').count()"
   ]
  },
  {
   "cell_type": "code",
   "execution_count": 51,
   "metadata": {
    "colab": {
     "base_uri": "https://localhost:8080/",
     "height": 405
    },
    "colab_type": "code",
    "id": "ZnJQ0snXx4ck",
    "outputId": "757a8d5d-b7ef-48dd-ba43-80fbc9830e27"
   },
   "outputs": [
    {
     "data": {
      "text/plain": [
       "<AxesSubplot:xlabel='cab_type'>"
      ]
     },
     "execution_count": 51,
     "metadata": {},
     "output_type": "execute_result"
    },
    {
     "data": {
      "image/png": "[encoded data removed]",
      "text/plain": [
       "<Figure size 432x288 with 1 Axes>"
      ]
     },
     "metadata": {
      "needs_background": "light"
     },
     "output_type": "display_data"
    }
   ],
   "source": [
    "a.groupby('cab_type').count().plot.bar()\n"
   ]
  },
  {
   "cell_type": "code",
   "execution_count": 52,
   "metadata": {
    "colab": {
     "base_uri": "https://localhost:8080/",
     "height": 664
    },
    "colab_type": "code",
    "id": "ZUvdDKzaswcM",
    "outputId": "92298cff-8d21-4aba-c68d-fc4c6d7c5660"
   },
   "outputs": [
    {
     "data": {
      "text/plain": [
       "<AxesSubplot:>"
      ]
     },
     "execution_count": 52,
     "metadata": {},
     "output_type": "execute_result"
    },
    {
     "data": {
      "image/png": "[encoded data removed]",
      "text/plain": [
       "<Figure size 7200x3600 with 1 Axes>"
      ]
     },
     "metadata": {
      "needs_background": "light"
     },
     "output_type": "display_data"
    }
   ],
   "source": [
    "a['price'].value_counts().plot(kind='bar',figsize=(100,50),color='purple')\n"
   ]
  },
  {
   "cell_type": "code",
   "execution_count": 53,
   "metadata": {
    "colab": {
     "base_uri": "https://localhost:8080/",
     "height": 342
    },
    "colab_type": "code",
    "id": "BIenWTcstAFK",
    "outputId": "a0d03d9f-b399-4d73-ca23-9c33a5daf548"
   },
   "outputs": [
    {
     "data": {
      "text/plain": [
       "<AxesSubplot:>"
      ]
     },
     "execution_count": 53,
     "metadata": {},
     "output_type": "execute_result"
    },
    {
     "data": {
      "image/png": "[encoded data removed]",
      "text/plain": [
       "<Figure size 720x360 with 1 Axes>"
      ]
     },
     "metadata": {
      "needs_background": "light"
     },
     "output_type": "display_data"
    }
   ],
   "source": [
    "a['hour'].value_counts().plot(kind='bar',figsize=(10,5),color='red')\n"
   ]
  },
  {
   "cell_type": "code",
   "execution_count": 54,
   "metadata": {
    "colab": {
     "base_uri": "https://localhost:8080/",
     "height": 265
    },
    "colab_type": "code",
    "id": "A14nANN9tgjp",
    "outputId": "69f2923b-b68e-44e0-b9b5-250e0176bfce"
   },
   "outputs": [
    {
     "data": {
      "image/png": "[encoded data removed]",
      "text/plain": [
       "<Figure size 432x288 with 1 Axes>"
      ]
     },
     "metadata": {
      "needs_background": "light"
     },
     "output_type": "display_data"
    }
   ],
   "source": [
    "import matplotlib.pyplot as plt\n",
    "x=a['hour']\n",
    "y=a['price']\n",
    "plt.plot(x,y)\n",
    "plt.show()\n"
   ]
  },
  {
   "cell_type": "code",
   "execution_count": 55,
   "metadata": {
    "colab": {
     "base_uri": "https://localhost:8080/",
     "height": 265
    },
    "colab_type": "code",
    "id": "omxIbm70ujgI",
    "outputId": "df67982c-4800-4ef6-a0fb-3c9e0c71c56d"
   },
   "outputs": [
    {
     "data": {
      "image/png": "[encoded data removed]",
      "text/plain": [
       "<Figure size 432x288 with 1 Axes>"
      ]
     },
     "metadata": {
      "needs_background": "light"
     },
     "output_type": "display_data"
    }
   ],
   "source": [
    "x=a['rain']\n",
    "y=a['price']\n",
    "plt.plot(x,y)\n",
    "plt.show()"
   ]
  },
  {
   "cell_type": "code",
   "execution_count": 56,
   "metadata": {
    "colab": {
     "base_uri": "https://localhost:8080/",
     "height": 102
    },
    "colab_type": "code",
    "id": "er2YVt3WygdI",
    "outputId": "fc109cc3-7b86-46a0-d4b0-b9440c64313b"
   },
   "outputs": [
    {
     "data": {
      "text/plain": [
       "Index(['distance', 'cab_type', 'time_stamp', 'destination', 'source', 'price',\n",
       "       'surge_multiplier', 'id', 'product_id', 'name', 'datetime', 'temp',\n",
       "       'location', 'clouds', 'pressure', 'rain', 'humidity', 'wind',\n",
       "       'date_time', 'day', 'hour'],\n",
       "      dtype='object')"
      ]
     },
     "execution_count": 56,
     "metadata": {},
     "output_type": "execute_result"
    }
   ],
   "source": [
    "a.columns"
   ]
  },
  {
   "cell_type": "code",
   "execution_count": 57,
   "metadata": {
    "colab": {},
    "colab_type": "code",
    "id": "bmM19hzVA3S9"
   },
   "outputs": [],
   "source": [
    "x1=a[['distance', 'temp','clouds', 'pressure', 'humidity','wind','rain','day','hour','surge_multiplier','clouds']]\n",
    "y1=a['price']"
   ]
  },
  {
   "cell_type": "code",
   "execution_count": 58,
   "metadata": {
    "colab": {},
    "colab_type": "code",
    "id": "tNUgnG33C1o6"
   },
   "outputs": [],
   "source": [
    "# Using Skicit-learn to split data into training and testing sets\n",
    "from sklearn.model_selection import train_test_split\n",
    "# Split the data into training and testing sets\n",
    "x_train, y_train, x_test, y_test = train_test_split(x1, y1, test_size = 0.20, random_state = 23)"
   ]
  },
  {
   "cell_type": "code",
   "execution_count": 59,
   "metadata": {
    "colab": {
     "base_uri": "https://localhost:8080/",
     "height": 34
    },
    "colab_type": "code",
    "id": "sxi1YCs-CqPt",
    "outputId": "e0e0800b-f310-48cb-de6a-16bedc5d0b0a"
   },
   "outputs": [
    {
     "data": {
      "text/plain": [
       "LinearRegression()"
      ]
     },
     "execution_count": 59,
     "metadata": {},
     "output_type": "execute_result"
    }
   ],
   "source": [
    "linear=LinearRegression()\n",
    "linear.fit(x_train,x_test)"
   ]
  },
  {
   "cell_type": "code",
   "execution_count": 60,
   "metadata": {
    "colab": {},
    "colab_type": "code",
    "id": "SKxfhK2jDKE5"
   },
   "outputs": [],
   "source": [
    "predictions=linear.predict(y_train)"
   ]
  },
  {
   "cell_type": "code",
   "execution_count": 61,
   "metadata": {
    "colab": {
     "base_uri": "https://localhost:8080/",
     "height": 419
    },
    "colab_type": "code",
    "id": "vajKdhZMDQdL",
    "outputId": "11e537a3-3616-48d4-cae9-7c4b4da7fb71"
   },
   "outputs": [
    {
     "data": {
      "text/html": [
       "<div>\n",
       "<style scoped>\n",
       "    .dataframe tbody tr th:only-of-type {\n",
       "        vertical-align: middle;\n",
       "    }\n",
       "\n",
       "    .dataframe tbody tr th {\n",
       "        vertical-align: top;\n",
       "    }\n",
       "\n",
       "    .dataframe thead th {\n",
       "        text-align: right;\n",
       "    }\n",
       "</style>\n",
       "<table border=\"1\" class=\"dataframe\">\n",
       "  <thead>\n",
       "    <tr style=\"text-align: right;\">\n",
       "      <th></th>\n",
       "      <th>Actual</th>\n",
       "      <th>Predicted</th>\n",
       "    </tr>\n",
       "  </thead>\n",
       "  <tbody>\n",
       "    <tr>\n",
       "      <th>88039</th>\n",
       "      <td>7.5</td>\n",
       "      <td>13.412944</td>\n",
       "    </tr>\n",
       "    <tr>\n",
       "      <th>330611</th>\n",
       "      <td>14.0</td>\n",
       "      <td>15.095217</td>\n",
       "    </tr>\n",
       "    <tr>\n",
       "      <th>170726</th>\n",
       "      <td>16.5</td>\n",
       "      <td>15.426574</td>\n",
       "    </tr>\n",
       "    <tr>\n",
       "      <th>73822</th>\n",
       "      <td>15.0</td>\n",
       "      <td>11.705181</td>\n",
       "    </tr>\n",
       "    <tr>\n",
       "      <th>179894</th>\n",
       "      <td>0.0</td>\n",
       "      <td>18.102917</td>\n",
       "    </tr>\n",
       "    <tr>\n",
       "      <th>...</th>\n",
       "      <td>...</td>\n",
       "      <td>...</td>\n",
       "    </tr>\n",
       "    <tr>\n",
       "      <th>686857</th>\n",
       "      <td>9.0</td>\n",
       "      <td>14.763860</td>\n",
       "    </tr>\n",
       "    <tr>\n",
       "      <th>565115</th>\n",
       "      <td>16.0</td>\n",
       "      <td>16.548089</td>\n",
       "    </tr>\n",
       "    <tr>\n",
       "      <th>566262</th>\n",
       "      <td>16.5</td>\n",
       "      <td>15.885375</td>\n",
       "    </tr>\n",
       "    <tr>\n",
       "      <th>615289</th>\n",
       "      <td>7.5</td>\n",
       "      <td>12.903164</td>\n",
       "    </tr>\n",
       "    <tr>\n",
       "      <th>195406</th>\n",
       "      <td>10.5</td>\n",
       "      <td>17.108847</td>\n",
       "    </tr>\n",
       "  </tbody>\n",
       "</table>\n",
       "<p>139870 rows × 2 columns</p>\n",
       "</div>"
      ],
      "text/plain": [
       "        Actual  Predicted\n",
       "88039      7.5  13.412944\n",
       "330611    14.0  15.095217\n",
       "170726    16.5  15.426574\n",
       "73822     15.0  11.705181\n",
       "179894     0.0  18.102917\n",
       "...        ...        ...\n",
       "686857     9.0  14.763860\n",
       "565115    16.0  16.548089\n",
       "566262    16.5  15.885375\n",
       "615289     7.5  12.903164\n",
       "195406    10.5  17.108847\n",
       "\n",
       "[139870 rows x 2 columns]"
      ]
     },
     "execution_count": 61,
     "metadata": {},
     "output_type": "execute_result"
    }
   ],
   "source": [
    "df = pd.DataFrame({'Actual': y_test, 'Predicted': predictions})\n",
    "df"
   ]
  },
  {
   "cell_type": "code",
   "execution_count": 62,
   "metadata": {
    "colab": {
     "base_uri": "https://localhost:8080/",
     "height": 522
    },
    "colab_type": "code",
    "id": "1cV3v_cQD2R6",
    "outputId": "7dcab781-dc1f-409c-f626-8c2789b38f12"
   },
   "outputs": [
    {
     "data": {
      "image/png": "[encoded data removed]",
      "text/plain": [
       "<Figure size 1872x720 with 1 Axes>"
      ]
     },
     "metadata": {
      "needs_background": "light"
     },
     "output_type": "display_data"
    }
   ],
   "source": [
    "df1 = df.head(25)\n",
    "df1.plot(kind='bar',figsize=(26,10))\n",
    "plt.grid(which='major', linestyle='-', linewidth='0.5', color='green')\n",
    "plt.grid(which='minor', linestyle=':', linewidth='0.5', color='black')\n",
    "plt.show()"
   ]
  }
 ],
 "metadata": {
  "colab": {
   "collapsed_sections": [],
   "name": "Uber Data Analysis_final_1",
   "provenance": []
  },
  "kernelspec": {
   "display_name": "Python 3 (ipykernel)",
   "language": "python",
   "name": "python3"
  },
  "language_info": {
   "codemirror_mode": {
    "name": "ipython",
    "version": 3
   },
   "file_extension": ".py",
   "mimetype": "text/x-python",
   "name": "python",
   "nbconvert_exporter": "python",
   "pygments_lexer": "ipython3",
   "version": "3.9.7"
  }
 },
 "nbformat": 4,
 "nbformat_minor": 1
}
